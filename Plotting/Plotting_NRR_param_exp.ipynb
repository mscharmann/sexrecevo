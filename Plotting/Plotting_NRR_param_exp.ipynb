{
 "cells": [
  {
   "cell_type": "markdown",
   "metadata": {},
   "source": [
    "## Here I will plot the NRR expansion (or lack thereof) in the parameter exploration sims"
   ]
  },
  {
   "cell_type": "code",
   "execution_count": 24,
   "metadata": {},
   "outputs": [],
   "source": [
    "import os\n",
    "import numpy as np"
   ]
  },
  {
   "cell_type": "code",
   "execution_count": 34,
   "metadata": {},
   "outputs": [],
   "source": [
    "wd = \"/Users/danieljeffries/Desktop/secrecevo/parameter_exploration_sims/param_exploration_plotting/\"\n",
    "\n",
    "sim_dirs = [i for i in os.listdir(wd) if \"OUTS\" in i]\n"
   ]
  },
  {
   "cell_type": "code",
   "execution_count": 35,
   "metadata": {},
   "outputs": [
    {
     "data": {
      "text/plain": [
       "['11_sim_array_OUTS',\n",
       " '99_sim_array_OUTS',\n",
       " '10_sim_array_OUTS',\n",
       " '12_sim_array_OUTS',\n",
       " '14_sim_array_OUTS',\n",
       " '13_sim_array_OUTS']"
      ]
     },
     "execution_count": 35,
     "metadata": {},
     "output_type": "execute_result"
    }
   ],
   "source": [
    "sim_dirs"
   ]
  },
  {
   "cell_type": "code",
   "execution_count": 41,
   "metadata": {},
   "outputs": [],
   "source": [
    "SD_POS = 50000\n",
    "GENOME_SIZE = 100000\n",
    "\n",
    "NRR_sizes = {}\n",
    "\n",
    "sex = \"m\"\n",
    "\n",
    "for sim in sim_dirs:\n",
    "    \n",
    "    sim_number = sim.split(\"_\")[0]\n",
    "    sim_files = [i for i in os.listdir(\"%s/%s\" % (wd,sim)) if sex in i and \"rp\" in i] \n",
    "    \n",
    "    NRR_sizes[sim_number] = []\n",
    "    \n",
    "    for sim_file in sim_files:\n",
    "        \n",
    "        data = open(\"%s/%s/%s\" % (wd,sim,sim_file), 'r').readlines()[-1]\n",
    "        final_gen = data.split()[0]\n",
    "        recombs = [int(i) for i in data.split()[1:] if i != \"100001\"]\n",
    "        \n",
    "        lowers = []\n",
    "        uppers = []\n",
    "\n",
    "        for recomb in recombs:\n",
    "\n",
    "            if int(recomb) < SD_POS:\n",
    "                lowers.append(SD_POS - int(recomb))\n",
    "            elif int(recomb) > SD_POS:\n",
    "                uppers.append(int(recomb) - SD_POS)\n",
    "\n",
    "        if len(lowers) == 0:\n",
    "            lower = 0\n",
    "        else:\n",
    "            lower = min(lowers)\n",
    "\n",
    "        if len(uppers) == 0:\n",
    "            upper = GENOME_SIZE\n",
    "        else:\n",
    "            upper = min(uppers)\n",
    "\n",
    "        NRR_sizes[sim_number].append(upper+lower)\n"
   ]
  },
  {
   "cell_type": "code",
   "execution_count": 42,
   "metadata": {},
   "outputs": [],
   "source": [
    "NRR_size_means = {}\n",
    "\n",
    "for sim in NRR_sizes:\n",
    "    NRR_size_means[sim] = np.mean(NRR_sizes[sim])"
   ]
  },
  {
   "cell_type": "code",
   "execution_count": 43,
   "metadata": {},
   "outputs": [
    {
     "data": {
      "text/plain": [
       "{'11': 44368.6,\n",
       " '99': 69233.96,\n",
       " '10': 19006.2,\n",
       " '12': 100000.0,\n",
       " '14': 8322.9,\n",
       " '13': 7558.0}"
      ]
     },
     "execution_count": 43,
     "metadata": {},
     "output_type": "execute_result"
    }
   ],
   "source": [
    "NRR_size_means"
   ]
  },
  {
   "cell_type": "markdown",
   "metadata": {},
   "source": [
    "Yeh this wont work - I need the slope I think. . . Will do some writing now, and come back to this tomorrow once the simulations are further along I think. "
   ]
  },
  {
   "cell_type": "code",
   "execution_count": null,
   "metadata": {},
   "outputs": [],
   "source": []
  }
 ],
 "metadata": {
  "kernelspec": {
   "display_name": "Python 3",
   "language": "python",
   "name": "python3"
  },
  "language_info": {
   "codemirror_mode": {
    "name": "ipython",
    "version": 3
   },
   "file_extension": ".py",
   "mimetype": "text/x-python",
   "name": "python",
   "nbconvert_exporter": "python",
   "pygments_lexer": "ipython3",
   "version": "3.7.3"
  }
 },
 "nbformat": 4,
 "nbformat_minor": 4
}
