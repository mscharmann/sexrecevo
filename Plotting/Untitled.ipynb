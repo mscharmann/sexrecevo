{
 "cells": [
  {
   "cell_type": "code",
   "execution_count": 1,
   "metadata": {},
   "outputs": [],
   "source": [
    "from Bio import SeqIO \n",
    "\n",
    "path = \"/home/djeffrie/Data/Genomes/Rtemp_hybrid/Assembly/ANCHORED_ONLY/Xen_sep/Xtropicalis.v9.repeatMasked_1.fasta\"\n",
    "\n",
    "Xen_1 = SeqIO.parse(open(path, 'r'), 'fasta')\n",
    "\n",
    "record = Xen_1.next()\n",
    "\n",
    "subseq = record.seq[85736350:85736730]\n"
   ]
  },
  {
   "cell_type": "code",
   "execution_count": 5,
   "metadata": {},
   "outputs": [
    {
     "name": "stdout",
     "output_type": "stream",
     "text": [
      "CTTTTCATGTGACAACTGAAGAAATGCCACTCTGCTCCAATGTACAATAGTGAGTGTACAGCCTGTAAGAACAGTGTACATTTGCTGTCCCCTCAAAATAACTCAACACACAGACATTAATGTCTAAACCGCTGGCAACAAAAGTGAGTACACCCCTAAGTGGAAATGTCCAAAATTGGTCCCAATTAGCCATTTCCCTCCCTAGGGTCATGTGACTGGTTAGTGTTACAAGGTCTCAGGTGTGAATGAGGAGCAGGTGTGTTAAATTTGATGTTATTGCTCTCACACTCTCCCATACTTGTCACTGGAAGTTCAACATGGCTCCTCATGGCAAAGAACTCTGAGGATCTGAAAAAAAGAATTGTTGCTCTACATAAAGA\n"
     ]
    }
   ],
   "source": [
    "print subseq\n",
    "CTTTTCATGTGACAACTGAAGAAATGCCACTCTGCTCCAATGTACAATAGTGAGTGTACAGCCTGTAAGAACAGTGTACATTTGCTGTCCCCTCAAAATAACTCAACACACAGACATTAATGTCTAAACCGCTGGCAACAAAAGTGAGTACACCCCTAAGTGGAAATGTCCAAAATTGGTCCCAATTAGCCATTTCCCTCCCTAGGGTCATGTGACTGGTTAGTGTTACAAGGTCTCAGGTGTGAATGAGGAGCAGGTGTGTTAAATTTGATGTTATTGCTCTCACACTCTCCCATACTTGTCACTGGAAGTTCAACATGGCTCCTCATGGCAAAGAACTCTGAGGATCTGAAAAAAAGAATTGTTGCTCTACATAAAGA"
   ]
  }
 ],
 "metadata": {
  "kernelspec": {
   "display_name": "Python 2",
   "language": "python",
   "name": "python2"
  },
  "language_info": {
   "codemirror_mode": {
    "name": "ipython",
    "version": 2
   },
   "file_extension": ".py",
   "mimetype": "text/x-python",
   "name": "python",
   "nbconvert_exporter": "python",
   "pygments_lexer": "ipython2",
   "version": "2.7.14"
  }
 },
 "nbformat": 4,
 "nbformat_minor": 2
}
